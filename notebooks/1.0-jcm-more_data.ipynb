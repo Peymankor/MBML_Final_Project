{
 "cells": [
  {
   "cell_type": "markdown",
   "metadata": {},
   "source": [
    "# Fetch more data!\n",
    "We have been using only data from Denmark in the models. In this notebook, the data from other countries is fetched and gathered with the same format, ready to be used in the probabilistic models."
   ]
  },
  {
   "cell_type": "code",
   "execution_count": 1,
   "metadata": {},
   "outputs": [],
   "source": [
    "from os.path import join, pardir\n",
    "\n",
    "import pandas as pd"
   ]
  },
  {
   "cell_type": "code",
   "execution_count": 2,
   "metadata": {},
   "outputs": [],
   "source": [
    "ROOT = pardir"
   ]
  },
  {
   "cell_type": "markdown",
   "metadata": {},
   "source": [
    "We are going to be using a big aggregated dataset about COVID19 incidence."
   ]
  },
  {
   "cell_type": "code",
   "execution_count": 3,
   "metadata": {},
   "outputs": [],
   "source": [
    "data_covid19 = pd.read_csv(\n",
    "    \"https://raw.githubusercontent.com/datasets/covid-19/master/data/countries-aggregated.csv\",\n",
    "    parse_dates=[\"Date\"],\n",
    ")"
   ]
  },
  {
   "cell_type": "code",
   "execution_count": 4,
   "metadata": {},
   "outputs": [],
   "source": [
    "cov_sp = data_covid19.loc[data_covid19.Country == \"Spain\", [\"Date\", \"Confirmed\"]].reset_index(drop=True)"
   ]
  },
  {
   "cell_type": "markdown",
   "metadata": {},
   "source": [
    "Exactly the same for the mobility data (from Google), this time stored in a local file."
   ]
  },
  {
   "cell_type": "code",
   "execution_count": 5,
   "metadata": {},
   "outputs": [
    {
     "name": "stderr",
     "output_type": "stream",
     "text": [
      "/home/jorge/.local/lib/python3.6/site-packages/IPython/core/interactiveshell.py:3049: DtypeWarning: Columns (3) have mixed types. Specify dtype option on import or set low_memory=False.\n",
      "  interactivity=interactivity, compiler=compiler, result=result)\n"
     ]
    }
   ],
   "source": [
    "df_mob = pd.read_csv(\n",
    "    join(ROOT, \"data\", \"raw\", \"Global_Mobility_Report.csv\"), parse_dates=[\"date\"]\n",
    ")\n",
    "mob_sp = df_mob.loc[\n",
    "    df_mob.country_region == \"Spain\",\n",
    "    [\n",
    "        \"date\",\n",
    "        \"retail_and_recreation_percent_change_from_baseline\",\n",
    "        \"grocery_and_pharmacy_percent_change_from_baseline\",\n",
    "        \"parks_percent_change_from_baseline\",\n",
    "        \"transit_stations_percent_change_from_baseline\",\n",
    "    ]\n",
    "].rename(columns={\"date\": \"Date\"}).reset_index(drop=True)"
   ]
  },
  {
   "cell_type": "code",
   "execution_count": 6,
   "metadata": {},
   "outputs": [
    {
     "data": {
      "text/html": [
       "<div>\n",
       "<style scoped>\n",
       "    .dataframe tbody tr th:only-of-type {\n",
       "        vertical-align: middle;\n",
       "    }\n",
       "\n",
       "    .dataframe tbody tr th {\n",
       "        vertical-align: top;\n",
       "    }\n",
       "\n",
       "    .dataframe thead th {\n",
       "        text-align: right;\n",
       "    }\n",
       "</style>\n",
       "<table border=\"1\" class=\"dataframe\">\n",
       "  <thead>\n",
       "    <tr style=\"text-align: right;\">\n",
       "      <th></th>\n",
       "      <th>Date</th>\n",
       "      <th>Confirmed</th>\n",
       "      <th>retail_and_recreation_percent_change_from_baseline</th>\n",
       "      <th>grocery_and_pharmacy_percent_change_from_baseline</th>\n",
       "      <th>parks_percent_change_from_baseline</th>\n",
       "      <th>transit_stations_percent_change_from_baseline</th>\n",
       "    </tr>\n",
       "  </thead>\n",
       "  <tbody>\n",
       "    <tr>\n",
       "      <td>0</td>\n",
       "      <td>2020-02-15</td>\n",
       "      <td>2</td>\n",
       "      <td>2.0</td>\n",
       "      <td>-1.0</td>\n",
       "      <td>26.0</td>\n",
       "      <td>8.0</td>\n",
       "    </tr>\n",
       "    <tr>\n",
       "      <td>1</td>\n",
       "      <td>2020-02-15</td>\n",
       "      <td>2</td>\n",
       "      <td>5.0</td>\n",
       "      <td>-1.0</td>\n",
       "      <td>33.0</td>\n",
       "      <td>15.0</td>\n",
       "    </tr>\n",
       "    <tr>\n",
       "      <td>2</td>\n",
       "      <td>2020-02-15</td>\n",
       "      <td>2</td>\n",
       "      <td>3.0</td>\n",
       "      <td>7.0</td>\n",
       "      <td>42.0</td>\n",
       "      <td>10.0</td>\n",
       "    </tr>\n",
       "    <tr>\n",
       "      <td>3</td>\n",
       "      <td>2020-02-15</td>\n",
       "      <td>2</td>\n",
       "      <td>0.0</td>\n",
       "      <td>-1.0</td>\n",
       "      <td>20.0</td>\n",
       "      <td>8.0</td>\n",
       "    </tr>\n",
       "    <tr>\n",
       "      <td>4</td>\n",
       "      <td>2020-02-15</td>\n",
       "      <td>2</td>\n",
       "      <td>5.0</td>\n",
       "      <td>-2.0</td>\n",
       "      <td>11.0</td>\n",
       "      <td>9.0</td>\n",
       "    </tr>\n",
       "  </tbody>\n",
       "</table>\n",
       "</div>"
      ],
      "text/plain": [
       "        Date  Confirmed  retail_and_recreation_percent_change_from_baseline  \\\n",
       "0 2020-02-15          2                                                2.0    \n",
       "1 2020-02-15          2                                                5.0    \n",
       "2 2020-02-15          2                                                3.0    \n",
       "3 2020-02-15          2                                                0.0    \n",
       "4 2020-02-15          2                                                5.0    \n",
       "\n",
       "   grocery_and_pharmacy_percent_change_from_baseline  \\\n",
       "0                                               -1.0   \n",
       "1                                               -1.0   \n",
       "2                                                7.0   \n",
       "3                                               -1.0   \n",
       "4                                               -2.0   \n",
       "\n",
       "   parks_percent_change_from_baseline  \\\n",
       "0                                26.0   \n",
       "1                                33.0   \n",
       "2                                42.0   \n",
       "3                                20.0   \n",
       "4                                11.0   \n",
       "\n",
       "   transit_stations_percent_change_from_baseline  \n",
       "0                                            8.0  \n",
       "1                                           15.0  \n",
       "2                                           10.0  \n",
       "3                                            8.0  \n",
       "4                                            9.0  "
      ]
     },
     "execution_count": 6,
     "metadata": {},
     "output_type": "execute_result"
    }
   ],
   "source": [
    "cov_sp.merge(mob_sp, on=\"Date\").head()"
   ]
  },
  {
   "cell_type": "markdown",
   "metadata": {},
   "source": [
    "### CLI interface\n",
    "This exact pipeline was expressed as a CLI."
   ]
  },
  {
   "cell_type": "code",
   "execution_count": 7,
   "metadata": {},
   "outputs": [
    {
     "name": "stdout",
     "output_type": "stream",
     "text": [
      "Usage: make_dataset.py [OPTIONS] INPUT_MOBILITY OUTPUT\r\n",
      "\r\n",
      "  Fetch and turn raw data into cleaned data.\r\n",
      "\r\n",
      "  From (../raw) into cleaned data ready to be analyzed (in ../processed).\r\n",
      "\r\n",
      "Options:\r\n",
      "  --country TEXT  Country to filter from.\r\n",
      "  --feat TEXT     Feature to extract.\r\n",
      "  --help          Show this message and exit.\r\n"
     ]
    }
   ],
   "source": [
    "!python ../src/data/make_dataset.py --help"
   ]
  },
  {
   "cell_type": "code",
   "execution_count": 8,
   "metadata": {},
   "outputs": [
    {
     "name": "stdout",
     "output_type": "stream",
     "text": [
      "2020-05-21 20:33:04,892 - __main__ - INFO - Fetching COVID19 data from from GitHub.\n",
      "2020-05-21 20:33:06,105 - __main__ - INFO - Fetching mobility data from from file ../data/raw/Global_Mobility_Report.csv.\n",
      "/home/jorge/.local/lib/python3.6/site-packages/click/core.py:956: DtypeWarning: Columns (3) have mixed types. Specify dtype option on import or set low_memory=False.\n",
      "  return ctx.invoke(self.callback, **ctx.params)\n",
      "2020-05-21 20:33:06,434 - __main__ - INFO - File generated at ../data/processed/data_niger_sixcol.csv\n"
     ]
    }
   ],
   "source": [
    "!python ../src/data/make_dataset.py ../data/raw/Global_Mobility_Report.csv \\\n",
    "    ../data/processed/data_niger_sixcol.csv --country Niger"
   ]
  },
  {
   "cell_type": "markdown",
   "metadata": {},
   "source": [
    "Shall we get more countries?"
   ]
  },
  {
   "cell_type": "code",
   "execution_count": 9,
   "metadata": {},
   "outputs": [
    {
     "name": "stdout",
     "output_type": "stream",
     "text": [
      "2020-05-21 20:33:07,280 - __main__ - INFO - Fetching COVID19 data from from GitHub.\n",
      "2020-05-21 20:33:08,156 - __main__ - INFO - Fetching mobility data from from file ../data/raw/Global_Mobility_Report.csv.\n",
      "/home/jorge/.local/lib/python3.6/site-packages/click/core.py:956: DtypeWarning: Columns (3) have mixed types. Specify dtype option on import or set low_memory=False.\n",
      "  return ctx.invoke(self.callback, **ctx.params)\n",
      "2020-05-21 20:33:08,517 - __main__ - INFO - File generated at ../data/processed/data_italy_sixcol.csv\n"
     ]
    }
   ],
   "source": [
    "!python ../src/data/make_dataset.py ../data/raw/Global_Mobility_Report.csv \\\n",
    "    ../data/processed/data_italy_sixcol.csv --country Italy"
   ]
  },
  {
   "cell_type": "code",
   "execution_count": 10,
   "metadata": {},
   "outputs": [
    {
     "name": "stdout",
     "output_type": "stream",
     "text": [
      "2020-05-21 20:33:09,405 - __main__ - INFO - Fetching COVID19 data from from GitHub.\n",
      "2020-05-21 20:33:10,215 - __main__ - INFO - Fetching mobility data from from file ../data/raw/Global_Mobility_Report.csv.\n",
      "/home/jorge/.local/lib/python3.6/site-packages/click/core.py:956: DtypeWarning: Columns (3) have mixed types. Specify dtype option on import or set low_memory=False.\n",
      "  return ctx.invoke(self.callback, **ctx.params)\n",
      "2020-05-21 20:33:10,549 - __main__ - INFO - File generated at ../data/processed/data_germany_sixcol.csv\n"
     ]
    }
   ],
   "source": [
    "!python ../src/data/make_dataset.py ../data/raw/Global_Mobility_Report.csv \\\n",
    "    ../data/processed/data_germany_sixcol.csv --country Germany"
   ]
  }
 ],
 "metadata": {
  "kernelspec": {
   "display_name": "Python 3",
   "language": "python",
   "name": "python3"
  },
  "language_info": {
   "codemirror_mode": {
    "name": "ipython",
    "version": 3
   },
   "file_extension": ".py",
   "mimetype": "text/x-python",
   "name": "python",
   "nbconvert_exporter": "python",
   "pygments_lexer": "ipython3",
   "version": "3.6.9"
  }
 },
 "nbformat": 4,
 "nbformat_minor": 2
}
